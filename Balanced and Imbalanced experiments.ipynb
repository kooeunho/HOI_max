{
 "cells": [
  {
   "cell_type": "code",
   "execution_count": null,
   "id": "bb739993",
   "metadata": {},
   "outputs": [],
   "source": [
    "from function import *\n",
    "\n",
    "###########################  HYPERPARAMETERS #################################\n",
    "\n",
    "# Homo-connection probability in Planted Partition Model (PPM)\n",
    "p = 0.2\n",
    "\n",
    "# Hetero-connection probability in PPM\n",
    "q = 0.015\n",
    "\n",
    "# Prior Information ratio\n",
    "r = 0.01\n",
    "\n",
    "# Nodes configuration in a given network\n",
    "# For example, if n_units = [50,50,50], then\n",
    "# the network consists of 150 nodes such that there are 50, 50, 50 nodes with label 1, 2, 3, resp.\n",
    "# You can vary the length (that is, number of labels) and number of nodes for each label.\n",
    "n_units = [60,40,20]\n",
    "\n",
    "# If Max == 0, then we use all cliques in the training procedure.\n",
    "# If Max == 1, then we use maximal cliques in the training procedure.\n",
    "Max = 1\n",
    "\n",
    "# exp_factor: if HOI = 1, we assign more penalty on higher order cliques\n",
    "#             , and exp_factor corresponds the penalty (default is 1, that is uniform penalty)\n",
    "exp_factor = 1\n",
    "\n",
    "# HOI: if 0, then the optimization only considering the pairwise interaction\n",
    "#           , and if 1, the optimization uses all higher order cliques\n",
    "HOI = 1\n",
    "\n",
    "###################################################################################\n",
    "\n",
    "\n",
    "# number of labels\n",
    "n_classes = len(n_units)\n",
    "\n",
    "# n_V is the number of nodes\n",
    "n_V = sum(n_units)\n",
    "\n",
    "\n",
    "# A generated graph using PPM model\n",
    "# G is the generated graph\n",
    "# V is the set of nodes\n",
    "# Cliques is the set of all cliques (or maximal cliques) in the network\n",
    "# Classes is sets of nodes corresponding each label\n",
    "# Label is scalar valued label\n",
    "# Label_mat is vector valued label\n",
    "G, V, Cliques, Classes, Label, Label_mat = Generating_graph_with_simplices(n_units, p, q, Max)\n",
    "\n",
    "\n",
    "# x_init denotes the probability distribution in all nodes\n",
    "# pred_rw is predicted label using RW (or Equillibrium Measure)\n",
    "# x_known is the set of prior Information of nodes\n",
    "x_init, pred_rw, x_known = Initialization(G, Classes, r)\n",
    "\n",
    "\n",
    "x_init_revised = x_init.copy() \n",
    "x_known_reversed_list = x_known[:,0][::-1]\n",
    "for tt in range(len(x_known_reversed_list)):\n",
    "    x_init_revised = np.delete(x_init_revised, int(x_known_reversed_list[tt]))\n",
    "    \n",
    "    \n",
    "# pred_mat is probability distribution of predictioin\n",
    "# pred_label is predicted label \n",
    "pred_mat, pred_label = Optimization(x_init_revised, x_known, Cliques, n_classes, HOI, exp_factor)   \n",
    "\n",
    "# confusion matrix \n",
    "conf_mat = confusion_matrix(Label, pred_, n_classes)\n",
    "\n",
    "# 4-dim vectors such that np.array([precision, recall, f1_score, accuracy])\n",
    "statistics = precision_recall_f1_accuracy(conf_mat)"
   ]
  },
  {
   "cell_type": "code",
   "execution_count": null,
   "id": "51d7884c",
   "metadata": {},
   "outputs": [],
   "source": []
  },
  {
   "cell_type": "code",
   "execution_count": null,
   "id": "e6c77ea8",
   "metadata": {},
   "outputs": [],
   "source": []
  },
  {
   "cell_type": "code",
   "execution_count": null,
   "id": "e131ca27",
   "metadata": {},
   "outputs": [],
   "source": []
  },
  {
   "cell_type": "code",
   "execution_count": null,
   "id": "5c43cee9",
   "metadata": {},
   "outputs": [],
   "source": []
  },
  {
   "cell_type": "code",
   "execution_count": null,
   "id": "0b9749fe",
   "metadata": {},
   "outputs": [],
   "source": []
  },
  {
   "cell_type": "code",
   "execution_count": null,
   "id": "c6f3971c",
   "metadata": {},
   "outputs": [],
   "source": []
  },
  {
   "cell_type": "code",
   "execution_count": null,
   "id": "430c5459",
   "metadata": {},
   "outputs": [],
   "source": []
  },
  {
   "cell_type": "code",
   "execution_count": null,
   "id": "d01b02c9",
   "metadata": {},
   "outputs": [],
   "source": []
  },
  {
   "cell_type": "code",
   "execution_count": null,
   "id": "306861a3",
   "metadata": {},
   "outputs": [],
   "source": []
  },
  {
   "cell_type": "code",
   "execution_count": null,
   "id": "2cc01a17",
   "metadata": {},
   "outputs": [],
   "source": []
  },
  {
   "cell_type": "code",
   "execution_count": null,
   "id": "f0450f0a",
   "metadata": {},
   "outputs": [],
   "source": []
  },
  {
   "cell_type": "code",
   "execution_count": null,
   "id": "17c27456",
   "metadata": {},
   "outputs": [],
   "source": []
  },
  {
   "cell_type": "code",
   "execution_count": null,
   "id": "165b63af",
   "metadata": {},
   "outputs": [],
   "source": []
  }
 ],
 "metadata": {
  "kernelspec": {
   "display_name": "Python 3 (ipykernel)",
   "language": "python",
   "name": "python3"
  },
  "language_info": {
   "codemirror_mode": {
    "name": "ipython",
    "version": 3
   },
   "file_extension": ".py",
   "mimetype": "text/x-python",
   "name": "python",
   "nbconvert_exporter": "python",
   "pygments_lexer": "ipython3",
   "version": "3.11.4"
  }
 },
 "nbformat": 4,
 "nbformat_minor": 5
}
